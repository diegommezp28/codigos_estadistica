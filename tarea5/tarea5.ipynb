{
 "cells": [
  {
   "cell_type": "code",
   "execution_count": 121,
   "metadata": {
    "collapsed": true
   },
   "outputs": [],
   "source": [
    "import numpy as np\n",
    "import matplotlib.pyplot as plt\n",
    "import math\n",
    "from scipy.stats import uniform"
   ]
  },
  {
   "cell_type": "markdown",
   "metadata": {},
   "source": [
    "---\n",
    "# Tarea 5 Estadística 2020-02\n",
    "---\n",
    "* Diego Andrés Gómez Polo\n",
    "* Daniel Alzate\n",
    "---\n"
   ]
  },
  {
   "cell_type": "markdown",
   "metadata": {},
   "source": [
    "# 1"
   ]
  },
  {
   "cell_type": "code",
   "execution_count": 110,
   "metadata": {
    "pycharm": {
     "name": "#%%\n"
    }
   },
   "outputs": [
    {
     "name": "stdout",
     "output_type": "stream",
     "text": [
      "Intervalo = (0.918885,0.938885)\n",
      "0.0% fuera del intervalo definido\n",
      "Media de las simulaciones: 0.9289721333333334\n"
     ]
    }
   ],
   "source": [
    "np.random.seed(0)\n",
    "N = 15000\n",
    "f = lambda x,y: np.exp(-1 * x**2 * y**3)\n",
    "sampling = lambda n: uniform.rvs(size=n)\n",
    "simulations = []\n",
    "realValue = 0.928885\n",
    "delta = 0.01\n",
    "\n",
    "for i in range(1000):\n",
    "    [X_i, Y_i, Z_i] = [sampling(N) for _ in range(3)]\n",
    "    func = f(X_i, Y_i)\n",
    "    W = np.less_equal(Z_i, func).astype(int)\n",
    "    stimator = np.mean(W)\n",
    "    simulations.append(stimator)\n",
    "\n",
    "simulations = np.array(simulations)\n",
    "simulations_mean = np.mean(simulations)\n",
    "error = 1 - ((realValue - delta  < simulations) & (simulations < realValue + delta)).sum() / len(simulations)\n",
    "error*=100\n",
    "print(f'Intervalo = ({realValue - delta},{realValue + delta})')\n",
    "print(f'{round(error, 4)}% fuera del intervalo definido')\n",
    "print(f'Media de las simulaciones: {simulations_mean}')"
   ]
  },
  {
   "cell_type": "markdown",
   "metadata": {},
   "source": [
    "## Graph"
   ]
  },
  {
   "cell_type": "code",
   "execution_count": 113,
   "metadata": {
    "pycharm": {
     "name": "#%%\n"
    }
   },
   "outputs": [
    {
     "data": {
      "image/png": "[encoded data removed]",
      "text/plain": [
       "<Figure size 1080x360 with 1 Axes>"
      ]
     },
     "metadata": {
      "needs_background": "light"
     },
     "output_type": "display_data"
    }
   ],
   "source": [
    "fig, ax = plt.subplots(figsize=(15,5))\n",
    "plt.hist(simulations, 30, alpha=0.1, density=True, color='b')\n",
    "plt.axvline(x=simulations_mean, color='r', lw=3, label= f' $W_n$ sample $\\mu = {round(simulations_mean, 6)}$')\n",
    "plt.xlabel(\"Estimador de integral\")\n",
    "plt.ylabel(\"Densidad\")\n",
    "plt.title('Distribución de estimadores de la integral entre $[0,1]\\\\times[0,1]$ de $f(x,y)= e^{-x^2 y^3}$')\n",
    "plt.legend()\n",
    "plt.show()"
   ]
  }
 ],
 "metadata": {
  "kernelspec": {
   "display_name": "Python 3",
   "language": "python",
   "name": "python3"
  },
  "language_info": {
   "codemirror_mode": {
    "name": "ipython",
    "version": 3
   },
   "file_extension": ".py",
   "mimetype": "text/x-python",
   "name": "python",
   "nbconvert_exporter": "python",
   "pygments_lexer": "ipython3",
   "version": "3.7.7"
  }
 },
 "nbformat": 4,
 "nbformat_minor": 1
}