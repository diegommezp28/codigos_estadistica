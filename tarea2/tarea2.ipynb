{
 "cells": [
  {
   "cell_type": "code",
   "execution_count": 39,
   "metadata": {
    "collapsed": true
   },
   "outputs": [],
   "source": [
    "from scipy.stats import uniform, binom, norm\n",
    "import matplotlib.pyplot as plt\n",
    "import numpy as np"
   ]
  },
  {
   "cell_type": "markdown",
   "metadata": {},
   "source": [
    "---\n",
    "\n",
    "# Tarea 3\n",
    "\n",
    "#### Diego Gómez, Daniel Alzate\n",
    "---\n",
    "\n",
    "## Punto 2\n",
    "\n"
   ]
  },
  {
   "cell_type": "markdown",
   "metadata": {
    "pycharm": {
     "name": "#%% md\n"
    }
   },
   "source": [
    "### 2.e\n"
   ]
  },
  {
   "cell_type": "code",
   "execution_count": 40,
   "metadata": {
    "pycharm": {
     "name": "#%%\n"
    }
   },
   "outputs": [
    {
     "data": {
      "text/plain": "<Figure size 432x288 with 1 Axes>",
      "image/png": "[encoded data removed]"
     },
     "metadata": {
      "needs_background": "light"
     },
     "output_type": "display_data"
    }
   ],
   "source": [
    "np.random.seed(seed=10)\n",
    "Y_list = []\n",
    "Z_list = []\n",
    "for i in range (0, 1000):\n",
    "    muestreo = uniform.rvs(loc=0, scale=1, size=100)\n",
    "    media_muestral = np.mean(muestreo)\n",
    "    Y_n = (101/100) * np.amax(muestreo)\n",
    "    Z_n = 2 * media_muestral\n",
    "\n",
    "    Y_list.append(Y_n)\n",
    "    Z_list.append(Z_n)\n",
    "\n",
    "Y_array = np.array(Y_list)\n",
    "Z_array = np.array(Z_list)\n",
    "\n",
    "mu_Y = np.mean(Y_array)\n",
    "mu_Z = np.mean(Z_array)\n",
    "\n",
    "fig = plt.figure()\n",
    "\n",
    "plot_y = plt.hist(Y_array, 30, alpha=0.1, density=True, color='b')\n",
    "plt.axvline(x=np.mean(Y_array), color='b', lw=1, label= f'sample $\\mu = {round(mu_Y, 6)}$')\n",
    "plot_Z = plt.hist(Z_array, 30, alpha=0.1, color='r',density=True)\n",
    "plt.axvline(x=np.mean(Z_array), color='r', lw=1, label= f'sample $\\mu = {round(mu_Z, 6)}$')\n",
    "\n",
    "plt.legend()\n",
    "plt.title('100 Samples')\n",
    "plt.show()\n",
    "\n",
    "# fig.savefig('100 SAMPLES.pdf', bbox_inches='tight')"
   ]
  },
  {
   "cell_type": "markdown",
   "metadata": {},
   "source": [
    "### 2.f\n"
   ]
  },
  {
   "cell_type": "code",
   "execution_count": 41,
   "metadata": {
    "pycharm": {
     "name": "#%%\n"
    }
   },
   "outputs": [
    {
     "data": {
      "text/plain": "<Figure size 432x288 with 1 Axes>",
      "image/png": "[encoded data removed]"
     },
     "metadata": {
      "needs_background": "light"
     },
     "output_type": "display_data"
    }
   ],
   "source": [
    "np.random.seed(seed=10)\n",
    "Y_list = []\n",
    "Z_list = []\n",
    "for i in range (0, 1000):\n",
    "    muestreo = uniform.rvs(loc=0, scale=1, size=1000)\n",
    "    media_muestral = np.mean(muestreo)\n",
    "    Y_n = (101/100) * np.amax(muestreo)\n",
    "    Z_n = 2 * media_muestral\n",
    "\n",
    "    Y_list.append(Y_n)\n",
    "    Z_list.append(Z_n)\n",
    "\n",
    "Y_array = np.array(Y_list)\n",
    "Z_array = np.array(Z_list)\n",
    "\n",
    "mu_Y = np.mean(Y_array)\n",
    "mu_Z = np.mean(Z_array)\n",
    "\n",
    "fig = plt.figure()\n",
    "\n",
    "plot_y = plt.hist(Y_array, 30, alpha=0.1, density=True, color='b')\n",
    "plt.axvline(x=np.mean(Y_array), color='b', lw=1, label= f'sample $\\mu = {round(mu_Y, 6)}$')\n",
    "plot_Z = plt.hist(Z_array, 30, alpha=0.1, color='r',density=True)\n",
    "plt.axvline(x=np.mean(Z_array), color='r', lw=1, label= f'sample $\\mu = {round(mu_Z, 6)}$')\n",
    "\n",
    "plt.legend()\n",
    "plt.title('1000 Samples')\n",
    "plt.show()\n",
    "\n",
    "# fig.savefig('1000 SAMPLES.pdf', bbox_inches='tight')\n",
    "\n"
   ]
  }
 ],
 "metadata": {
  "kernelspec": {
   "display_name": "Python 3",
   "language": "python",
   "name": "python3"
  },
  "language_info": {
   "codemirror_mode": {
    "name": "ipython",
    "version": 3
   },
   "file_extension": ".py",
   "mimetype": "text/x-python",
   "name": "python",
   "nbconvert_exporter": "python",
   "pygments_lexer": "ipython3",
   "version": "3.7.7"
  }
 },
 "nbformat": 4,
 "nbformat_minor": 1
}