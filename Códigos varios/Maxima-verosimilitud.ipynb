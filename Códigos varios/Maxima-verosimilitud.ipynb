{
 "cells": [
  {
   "cell_type": "code",
   "execution_count": 3,
   "metadata": {
    "collapsed": true
   },
   "outputs": [],
   "source": [
    "Simport numpy as np\n",
    "import math\n",
    "import matplotlib.pyplot as plt\n",
    "from scipy.stats import multivariate_normal, norm, poisson\n",
    "from mpl_toolkits.mplot3d import Axes3D"
   ]
  },
  {
   "cell_type": "code",
   "execution_count": 2,
   "outputs": [
    {
     "name": "stdout",
     "output_type": "stream",
     "text": [
      "La probabilidad de que haya más de 7 llamadas en un minuto es: 0.034%\n"
     ]
    }
   ],
   "source": [
    "k = 7\n",
    "mu = 100 / 60\n",
    "probabilidad = (1-poisson.cdf(k=k, mu=mu))*100\n",
    "\n",
    "print(f'La probabilidad de que haya más de 7 llamadas en un minuto es: {round(probabilidad, 3)}%')\n",
    "print('ahh')"
   ],
   "metadata": {
    "collapsed": false,
    "pycharm": {
     "name": "#%%\n"
    }
   }
  },
  {
   "cell_type": "code",
   "execution_count": 22,
   "outputs": [
    {
     "name": "stdout",
     "output_type": "stream",
     "text": [
      "El 0.3 percentil de esta normal es: 114.25548020045063\n",
      "Probabilidad de sacar 12 puntos más del corte es: 28.39847045158218%\n",
      "Probabilidad de sacar 80 puntos o más es: 99.98696351835723%\n",
      "La probabilidad de más de 90 puntos dado que se sacó más de 80 es: 99.70450299320251%\n",
      "0.9969150503397279\n",
      "El percentil 0.75 de una normal estándar es: 0.6744897501960817\n",
      "Percentil 0,96 de una normal con media 200 y desv std 103.8 es:381.72121419597516 \n",
      "El percentil 0.7 de una normal estándar es: 0.5244005127080407\n",
      "El percentil 0.91 de una normal estándar es: 1.3407550336902165\n",
      "19.679872524315662\n"
     ]
    }
   ],
   "source": [
    "mu = 120\n",
    "sigma = math.sqrt(120)\n",
    "\n",
    "percentil = norm.ppf(0.3, loc=mu, scale=sigma)\n",
    "\n",
    "print(f'El 0.3 percentil de esta normal es: {percentil}')\n",
    "\n",
    "percentilmas12 = percentil + 12\n",
    "\n",
    "probabilidad = (1 - norm.cdf(percentilmas12, loc=mu, scale=sigma))*100\n",
    "\n",
    "print(f'Probabilidad de sacar 12 puntos más del corte es: {probabilidad}%')\n",
    "\n",
    "probabilidad = (1 - norm.cdf(80, loc=mu, scale=sigma))\n",
    "\n",
    "print(f'Probabilidad de sacar 80 puntos o más es: {probabilidad*100}%')\n",
    "\n",
    "probabilidasmas90 = (1 - norm.cdf(90, loc=mu, scale=sigma))\n",
    "\n",
    "print(f'La probabilidad de más de 90 puntos dado que se sacó más de 80 es: '\n",
    "      f'{(probabilidasmas90/probabilidad)*100}%')\n",
    "\n",
    "print(probabilidasmas90)\n",
    "\n",
    "percentile075 = norm.ppf(0.75)\n",
    "print(f'El percentil 0.75 de una normal estándar es: {percentile075}')\n",
    "\n",
    "percentile096 = norm.ppf(0.96, loc=200, scale=103.8)\n",
    "print(f'Percentil 0,96 de una normal con media 200 y desv std 103.8 es:{percentile096} ')\n",
    "\n",
    "percentil070 = norm.ppf(0.7)\n",
    "percentile091 = norm.ppf(0.91)\n",
    "\n",
    "print(f'El percentil 0.7 de una normal estándar es: {percentil070}\\n'\n",
    "      f'El percentil 0.91 de una normal estándar es: {percentile091}')\n",
    "\n",
    "\n",
    "print((1-norm.cdf(20.5, loc=6.31, scale=8.94))*350)"
   ],
   "metadata": {
    "collapsed": false,
    "pycharm": {
     "name": "#%%\n"
    }
   }
  },
  {
   "cell_type": "code",
   "execution_count": 1,
   "outputs": [],
   "source": [
    "\n",
    "from google.cloud import bigquery\n",
    "from google.oauth2 import service_account"
   ],
   "metadata": {
    "collapsed": false,
    "pycharm": {
     "name": "#%%\n"
    }
   }
  },
  {
   "cell_type": "code",
   "execution_count": 5,
   "outputs": [
    {
     "data": {
      "text/plain": "Table(TableReference(DatasetReference('bi202020', 'prueba2'), 'Peaje'))"
     },
     "execution_count": 5,
     "metadata": {},
     "output_type": "execute_result"
    }
   ],
   "source": [
    "credentials = service_account.Credentials.from_service_account_file(\n",
    "    './credenciales2.json', scopes=[\"https://www.googleapis.com/auth/cloud-platform\"],\n",
    ")\n",
    "client = bigquery.Client(credentials=credentials, project=credentials.project_id)\n",
    "\n",
    "\n",
    "table = client.get_table('bi202020.prueba2.Peaje')\n",
    "\n",
    "table\n",
    "\n"
   ],
   "metadata": {
    "collapsed": false,
    "pycharm": {
     "name": "#%%\n"
    }
   }
  }
 ],
 "metadata": {
  "kernelspec": {
   "display_name": "Python 3",
   "language": "python",
   "name": "python3"
  },
  "language_info": {
   "codemirror_mode": {
    "name": "ipython",
    "version": 2
   },
   "file_extension": ".py",
   "mimetype": "text/x-python",
   "name": "python",
   "nbconvert_exporter": "python",
   "pygments_lexer": "ipython2",
   "version": "2.7.6"
  }
 },
 "nbformat": 4,
 "nbformat_minor": 0
}