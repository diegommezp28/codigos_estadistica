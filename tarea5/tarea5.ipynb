{
 "cells": [
  {
   "cell_type": "code",
   "execution_count": 2,
   "metadata": {
    "collapsed": true
   },
   "outputs": [],
   "source": [
    "import numpy as np\n",
    "import matplotlib.pyplot as plt\n",
    "import math\n",
    "from scipy.stats import uniform, norm"
   ]
  },
  {
   "cell_type": "markdown",
   "metadata": {},
   "source": [
    "---\n",
    "# Tarea 5 Estadística 2020-02\n",
    "---\n",
    "* Diego Andrés Gómez Polo\n",
    "* Daniel Alzate\n",
    "---\n"
   ]
  },
  {
   "cell_type": "markdown",
   "metadata": {},
   "source": [
    "# 1"
   ]
  },
  {
   "cell_type": "code",
   "execution_count": 110,
   "metadata": {
    "pycharm": {
     "name": "#%%\n"
    }
   },
   "outputs": [
    {
     "name": "stdout",
     "output_type": "stream",
     "text": [
      "Intervalo = (0.918885,0.938885)\n",
      "0.0% fuera del intervalo definido\n",
      "Media de las simulaciones: 0.9289721333333334\n"
     ]
    }
   ],
   "source": [
    "np.random.seed(0)\n",
    "N = 15000\n",
    "f = lambda x,y: np.exp(-1 * x**2 * y**3)\n",
    "sampling = lambda n: uniform.rvs(size=n)\n",
    "simulations = []\n",
    "realValue = 0.928885\n",
    "delta = 0.01\n",
    "\n",
    "for i in range(1000):\n",
    "    [X_i, Y_i, Z_i] = [sampling(N) for _ in range(3)]\n",
    "    func = f(X_i, Y_i)\n",
    "    W = np.less_equal(Z_i, func).astype(int)\n",
    "    stimator = np.mean(W)\n",
    "    simulations.append(stimator)\n",
    "\n",
    "simulations = np.array(simulations)\n",
    "simulations_mean = np.mean(simulations)\n",
    "error = 1 - ((realValue - delta  < simulations) & (simulations < realValue + delta)).sum() / len(simulations)\n",
    "error*=100\n",
    "print(f'Intervalo = ({realValue - delta},{realValue + delta})')\n",
    "print(f'{round(error, 4)}% fuera del intervalo definido')\n",
    "print(f'Media de las simulaciones: {simulations_mean}')"
   ]
  },
  {
   "cell_type": "markdown",
   "metadata": {},
   "source": [
    "## Graph"
   ]
  },
  {
   "cell_type": "code",
   "execution_count": 113,
   "metadata": {
    "pycharm": {
     "name": "#%%\n"
    }
   },
   "outputs": [
    {
     "data": {
      "image/png": "[encoded data removed]",
      "text/plain": [
       "<Figure size 1080x360 with 1 Axes>"
      ]
     },
     "metadata": {
      "needs_background": "light"
     },
     "output_type": "display_data"
    }
   ],
   "source": [
    "fig, ax = plt.subplots(figsize=(15,5))\n",
    "plt.hist(simulations, 30, alpha=0.1, density=True, color='b')\n",
    "plt.axvline(x=simulations_mean, color='r', lw=3, label= f' $W_n$ sample $\\mu = {round(simulations_mean, 6)}$')\n",
    "plt.xlabel(\"Estimador de integral\")\n",
    "plt.ylabel(\"Densidad\")\n",
    "plt.title('Distribución de estimadores de la integral entre $[0,1]\\\\times[0,1]$ de $f(x,y)= e^{-x^2 y^3}$')\n",
    "plt.legend()\n",
    "plt.show()"
   ]
  },
  {
   "cell_type": "markdown",
   "source": [
    "# 3.b"
   ],
   "metadata": {
    "collapsed": false
   }
  },
  {
   "cell_type": "code",
   "execution_count": 3,
   "outputs": [],
   "source": [
    "np.random.seed(0)\n",
    "N = 1000\n",
    "mu1, sigma1 = 5, 1\n",
    "mu2, sigma2 = 3, math.sqrt(2)\n",
    "sampling = lambda n, mu, sigma: norm.rvs(loc=mu, scale=sigma, size=n)\n",
    "muestraX, muestraY = sampling(N, mu1, sigma1), sampling(N, mu2, sigma2)"
   ],
   "metadata": {
    "collapsed": false,
    "pycharm": {
     "name": "#%%\n"
    }
   }
  },
  {
   "cell_type": "markdown",
   "source": [
    "# 3.c"
   ],
   "metadata": {
    "collapsed": false
   }
  },
  {
   "cell_type": "code",
   "execution_count": 5,
   "outputs": [],
   "source": [
    "N_Bootstrap = 10000\n",
    "estimadores = []\n",
    "estimadores.append(mu1-mu2)\n",
    "\n",
    "for i in range(N_Bootstrap):\n",
    "    resampling_X = np.random.choice(muestraX, size=N, replace=True)\n",
    "    resampling_Y = np.random.choice(muestraY, size=N, replace=True)\n",
    "    resample_mu1 = np.mean(resampling_X)\n",
    "    resample_mu2 = np.mean(resampling_Y)\n",
    "    stimator = resample_mu1 - resample_mu2\n",
    "    estimadores.append(stimator)\n"
   ],
   "metadata": {
    "collapsed": false,
    "pycharm": {
     "name": "#%%\n"
    }
   }
  },
  {
   "cell_type": "markdown",
   "source": [
    "## Graph 3.d"
   ],
   "metadata": {
    "collapsed": false
   }
  },
  {
   "cell_type": "code",
   "execution_count": 19,
   "outputs": [
    {
     "data": {
      "text/plain": "<Figure size 1080x360 with 1 Axes>",
      "image/png": "[encoded data removed]"
     },
     "metadata": {
      "needs_background": "light"
     },
     "output_type": "display_data"
    }
   ],
   "source": [
    "fig, ax = plt.subplots(figsize=(15,5))\n",
    "plt.hist(estimadores, 30, alpha=0.2, density=True, color='b')\n",
    "plt.xlabel(\"Estimadores\")\n",
    "plt.ylabel(\"Densidad\")\n",
    "plt.title('Distribución de estimadores de $\\Delta = \\mu_1 - \\mu_2$')\n",
    "plt.show()"
   ],
   "metadata": {
    "collapsed": false,
    "pycharm": {
     "name": "#%%\n"
    }
   }
  },
  {
   "cell_type": "markdown",
   "source": [
    "## 3.e"
   ],
   "metadata": {
    "collapsed": false
   }
  },
  {
   "cell_type": "code",
   "execution_count": 23,
   "outputs": [
    {
     "name": "stdout",
     "output_type": "stream",
     "text": [
      "El intervalo de confianza para alpha = 0.1 es: (1.8476916948086952, 2.023302668895244)\n",
      "El intervalo de confianza para alpha = 0.5 es: (1.8999632862840263, 1.9716422209790245)\n",
      "El intervalo de confianza para alpha = 0.01 es: (1.796117550078666, 2.0709571058112304)\n"
     ]
    }
   ],
   "source": [
    "alpha1, alpha2, alpha3 = 0.1, 0.5, 0.01\n",
    "\n",
    "def confidence_interval(arr, alpha):\n",
    "    lower = np.percentile(arr, 100*(alpha/2), interpolation='linear')\n",
    "    upper = np.percentile(arr, 100*(1-alpha/2), interpolation='linear')\n",
    "    return (lower, upper)\n",
    "\n",
    "CI1 = confidence_interval(estimadores, alpha1)\n",
    "CI2 = confidence_interval(estimadores, alpha2)\n",
    "CI3 = confidence_interval(estimadores, alpha3)\n",
    "\n",
    "print(f'El intervalo de confianza para alpha = 0.1 es: {CI1}')\n",
    "print(f'El intervalo de confianza para alpha = 0.5 es: {CI2}')\n",
    "print(f'El intervalo de confianza para alpha = 0.01 es: {CI3}')"
   ],
   "metadata": {
    "collapsed": false,
    "pycharm": {
     "name": "#%%\n"
    }
   }
  }
 ],
 "metadata": {
  "kernelspec": {
   "display_name": "Python 3",
   "language": "python",
   "name": "python3"
  },
  "language_info": {
   "codemirror_mode": {
    "name": "ipython",
    "version": 3
   },
   "file_extension": ".py",
   "mimetype": "text/x-python",
   "name": "python",
   "nbconvert_exporter": "python",
   "pygments_lexer": "ipython3",
   "version": "3.7.7"
  }
 },
 "nbformat": 4,
 "nbformat_minor": 1
}