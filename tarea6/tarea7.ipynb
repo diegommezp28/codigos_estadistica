{
 "cells": [
  {
   "cell_type": "code",
   "execution_count": 4,
   "metadata": {
    "collapsed": true
   },
   "outputs": [],
   "source": [
    "\n",
    "from math import exp, log\n",
    "from scipy.stats import chi2\n",
    "import numpy as np"
   ]
  },
  {
   "cell_type": "markdown",
   "source": [
    "# Tarea 6\n",
    "\n",
    "---\n",
    "### 2"
   ],
   "metadata": {
    "collapsed": false
   }
  },
  {
   "cell_type": "code",
   "execution_count": 13,
   "outputs": [
    {
     "name": "stdout",
     "output_type": "stream",
     "text": [
      "0.24813566918955035\n"
     ]
    }
   ],
   "source": [
    "print(chi2.pdf(0.975,df=1 ))"
   ],
   "metadata": {
    "collapsed": false,
    "pycharm": {
     "name": "#%%\n"
    }
   }
  },
  {
   "cell_type": "code",
   "execution_count": 11,
   "outputs": [
    {
     "name": "stdout",
     "output_type": "stream",
     "text": [
      "12.371420682013401\n"
     ]
    }
   ],
   "source": [
    "print(200*(42-44.3-44.3*log(42/44.3)))"
   ],
   "metadata": {
    "collapsed": false,
    "pycharm": {
     "name": "#%%\n"
    }
   }
  },
  {
   "cell_type": "code",
   "execution_count": 6,
   "outputs": [
    {
     "name": "stdout",
     "output_type": "stream",
     "text": [
      "6.4018906821423025\n",
      "9.487729036781154\n",
      "0.9749651435578703\n"
     ]
    }
   ],
   "source": [
    "data = {1: [15,9], 2: [25,18], 3: [32,29], 4: [17,28], 5: [11, 16]}\n",
    "n = 0\n",
    "for i in range(1,6):\n",
    "    sum = data[i][0]+data[i][1]\n",
    "    first = data[i][0]-(sum/2)\n",
    "\n",
    "    second = data[i][1]-(sum/2)\n",
    "    frac = (first**2 + second**2)/(sum/2)\n",
    "    n += frac\n",
    "\n",
    "print(n)\n",
    "print(chi2.ppf(0.95, df=4))\n",
    "print(chi2.cdf(11.14, df=4))\n"
   ],
   "metadata": {
    "collapsed": false,
    "pycharm": {
     "name": "#%%\n"
    }
   }
  },
  {
   "cell_type": "code",
   "execution_count": 6,
   "outputs": [
    {
     "name": "stdout",
     "output_type": "stream",
     "text": [
      "0.04978858777179662\n"
     ]
    }
   ],
   "source": [
    "x = 0.599993896484375\n",
    "print(np.exp(-5*x))"
   ],
   "metadata": {
    "collapsed": false,
    "pycharm": {
     "name": "#%%\n"
    }
   }
  }
 ],
 "metadata": {
  "kernelspec": {
   "display_name": "Python 3",
   "language": "python",
   "name": "python3"
  },
  "language_info": {
   "codemirror_mode": {
    "name": "ipython",
    "version": 2
   },
   "file_extension": ".py",
   "mimetype": "text/x-python",
   "name": "python",
   "nbconvert_exporter": "python",
   "pygments_lexer": "ipython2",
   "version": "2.7.6"
  }
 },
 "nbformat": 4,
 "nbformat_minor": 0
}